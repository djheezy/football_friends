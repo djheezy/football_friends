{
 "cells": [
  {
   "cell_type": "code",
   "execution_count": 1,
   "metadata": {},
   "outputs": [
    {
     "name": "stderr",
     "output_type": "stream",
     "text": [
      "05:18:14 INFO:NumExpr defaulting to 8 threads.\n"
     ]
    }
   ],
   "source": [
    "import logging\n",
    "logger = logging.getLogger()\n",
    "logger.setLevel(logging.INFO)\n",
    "logging.basicConfig(format='%(asctime)s %(levelname)s:%(message)s', level=logging.DEBUG, datefmt='%I:%M:%S')\n",
    "\n",
    "import pandas as pd\n",
    "pd.options.display.max_rows = 100\n",
    "pd.options.display.max_columns = 100\n",
    "\n",
    "import os\n",
    "from datetime import datetime\n",
    "\n",
    "from ff_app.execution import run_data_pull, update_google_sheet\n",
    "from ff_app import data_prep"
   ]
  },
  {
   "cell_type": "code",
   "execution_count": 2,
   "metadata": {},
   "outputs": [
    {
     "name": "stderr",
     "output_type": "stream",
     "text": [
      "05:18:14 DEBUG:Starting new HTTPS connection (1): api.the-odds-api.com:443\n",
      "05:18:15 DEBUG:https://api.the-odds-api.com:443 \"GET /v4/sports/americanfootball_ncaaf/odds?markets=spreads%2Ctotals&regions=us&oddsFormat=american&dateFormat=iso&api_key=ce31cd809f1458374e07be4035c3d210 HTTP/1.1\" 200 16706\n",
      "05:18:15 INFO:Pulled 5 total games for week 0 in 2023\n",
      "05:18:15 INFO:Picks sheet data has shape (5, 10)\n",
      "05:18:15 INFO:Saving game data to disk at '/Users/hoke/dev/football/game_lists/2023/week0.csv'\n"
     ]
    },
    {
     "name": "stdout",
     "output_type": "stream",
     "text": [
      "(5, 10)\n"
     ]
    }
   ],
   "source": [
    "week = 0\n",
    "\n",
    "short_df = run_data_pull(week=week)\n",
    "# short_df, all_df = run_data_pull(week=week, return_all_games=True)\n",
    "\n",
    "print(short_df.shape)"
   ]
  },
  {
   "cell_type": "code",
   "execution_count": 3,
   "metadata": {},
   "outputs": [
    {
     "data": {
      "text/html": [
       "<div>\n",
       "<style scoped>\n",
       "    .dataframe tbody tr th:only-of-type {\n",
       "        vertical-align: middle;\n",
       "    }\n",
       "\n",
       "    .dataframe tbody tr th {\n",
       "        vertical-align: top;\n",
       "    }\n",
       "\n",
       "    .dataframe thead th {\n",
       "        text-align: right;\n",
       "    }\n",
       "</style>\n",
       "<table border=\"1\" class=\"dataframe\">\n",
       "  <thead>\n",
       "    <tr style=\"text-align: right;\">\n",
       "      <th></th>\n",
       "      <th>Week</th>\n",
       "      <th>Datetime</th>\n",
       "      <th>Mandatory</th>\n",
       "      <th>Home Team</th>\n",
       "      <th>Away Team</th>\n",
       "      <th>Favorite</th>\n",
       "      <th>Underdog</th>\n",
       "      <th>Spread</th>\n",
       "      <th>Total</th>\n",
       "      <th>Implied Score</th>\n",
       "    </tr>\n",
       "  </thead>\n",
       "  <tbody>\n",
       "    <tr>\n",
       "      <th>0</th>\n",
       "      <td>0</td>\n",
       "      <td>08/26 06:30 PM (Sat)</td>\n",
       "      <td>N</td>\n",
       "      <td>Notre Dame Fighting Irish</td>\n",
       "      <td>Navy Midshipmen</td>\n",
       "      <td>Notre Dame Fighting Irish</td>\n",
       "      <td>Navy Midshipmen</td>\n",
       "      <td>-20.5</td>\n",
       "      <td>49.0</td>\n",
       "      <td>34 - 14</td>\n",
       "    </tr>\n",
       "    <tr>\n",
       "      <th>1</th>\n",
       "      <td>0</td>\n",
       "      <td>08/26 09:30 PM (Sat)</td>\n",
       "      <td>N</td>\n",
       "      <td>Jacksonville State Gamecocks</td>\n",
       "      <td>UTEP Miners</td>\n",
       "      <td>UTEP Miners</td>\n",
       "      <td>Jacksonville State Gamecocks</td>\n",
       "      <td>-1.5</td>\n",
       "      <td>54.0</td>\n",
       "      <td>27 - 26</td>\n",
       "    </tr>\n",
       "    <tr>\n",
       "      <th>2</th>\n",
       "      <td>0</td>\n",
       "      <td>08/26 11:00 PM (Sat)</td>\n",
       "      <td>N</td>\n",
       "      <td>New Mexico State Aggies</td>\n",
       "      <td>UMass Minutemen</td>\n",
       "      <td>New Mexico State Aggies</td>\n",
       "      <td>UMass Minutemen</td>\n",
       "      <td>-7.5</td>\n",
       "      <td>45.0</td>\n",
       "      <td>26 - 18</td>\n",
       "    </tr>\n",
       "    <tr>\n",
       "      <th>3</th>\n",
       "      <td>0</td>\n",
       "      <td>08/26 11:00 PM (Sat)</td>\n",
       "      <td>N</td>\n",
       "      <td>San Diego State Aztecs</td>\n",
       "      <td>Ohio Bobcats</td>\n",
       "      <td>San Diego State Aztecs</td>\n",
       "      <td>Ohio Bobcats</td>\n",
       "      <td>-2.5</td>\n",
       "      <td>48.0</td>\n",
       "      <td>25 - 22</td>\n",
       "    </tr>\n",
       "    <tr>\n",
       "      <th>4</th>\n",
       "      <td>0</td>\n",
       "      <td>08/26 11:30 PM (Sat)</td>\n",
       "      <td>N</td>\n",
       "      <td>Vanderbilt Commodores</td>\n",
       "      <td>Hawaii Rainbow Warriors</td>\n",
       "      <td>Vanderbilt Commodores</td>\n",
       "      <td>Hawaii Rainbow Warriors</td>\n",
       "      <td>-17.5</td>\n",
       "      <td>56.0</td>\n",
       "      <td>36 - 19</td>\n",
       "    </tr>\n",
       "  </tbody>\n",
       "</table>\n",
       "</div>"
      ],
      "text/plain": [
       "   Week              Datetime Mandatory                     Home Team  \\\n",
       "0     0  08/26 06:30 PM (Sat)         N     Notre Dame Fighting Irish   \n",
       "1     0  08/26 09:30 PM (Sat)         N  Jacksonville State Gamecocks   \n",
       "2     0  08/26 11:00 PM (Sat)         N       New Mexico State Aggies   \n",
       "3     0  08/26 11:00 PM (Sat)         N        San Diego State Aztecs   \n",
       "4     0  08/26 11:30 PM (Sat)         N         Vanderbilt Commodores   \n",
       "\n",
       "                 Away Team                   Favorite  \\\n",
       "0          Navy Midshipmen  Notre Dame Fighting Irish   \n",
       "1              UTEP Miners                UTEP Miners   \n",
       "2          UMass Minutemen    New Mexico State Aggies   \n",
       "3             Ohio Bobcats     San Diego State Aztecs   \n",
       "4  Hawaii Rainbow Warriors      Vanderbilt Commodores   \n",
       "\n",
       "                       Underdog  Spread  Total Implied Score  \n",
       "0               Navy Midshipmen   -20.5   49.0       34 - 14  \n",
       "1  Jacksonville State Gamecocks    -1.5   54.0       27 - 26  \n",
       "2               UMass Minutemen    -7.5   45.0       26 - 18  \n",
       "3                  Ohio Bobcats    -2.5   48.0       25 - 22  \n",
       "4       Hawaii Rainbow Warriors   -17.5   56.0       36 - 19  "
      ]
     },
     "execution_count": 3,
     "metadata": {},
     "output_type": "execute_result"
    }
   ],
   "source": [
    "short_df.head()"
   ]
  },
  {
   "cell_type": "code",
   "execution_count": 4,
   "metadata": {},
   "outputs": [
    {
     "data": {
      "text/html": [
       "<div>\n",
       "<style scoped>\n",
       "    .dataframe tbody tr th:only-of-type {\n",
       "        vertical-align: middle;\n",
       "    }\n",
       "\n",
       "    .dataframe tbody tr th {\n",
       "        vertical-align: top;\n",
       "    }\n",
       "\n",
       "    .dataframe thead th {\n",
       "        text-align: right;\n",
       "    }\n",
       "</style>\n",
       "<table border=\"1\" class=\"dataframe\">\n",
       "  <thead>\n",
       "    <tr style=\"text-align: right;\">\n",
       "      <th></th>\n",
       "      <th>Week</th>\n",
       "      <th>Datetime</th>\n",
       "      <th>Mandatory</th>\n",
       "      <th>Home Team</th>\n",
       "      <th>Away Team</th>\n",
       "      <th>Favorite</th>\n",
       "      <th>Underdog</th>\n",
       "      <th>Spread</th>\n",
       "      <th>Total</th>\n",
       "      <th>Implied Score</th>\n",
       "    </tr>\n",
       "  </thead>\n",
       "  <tbody>\n",
       "    <tr>\n",
       "      <th>0</th>\n",
       "      <td>0</td>\n",
       "      <td>08/26 06:30 PM (Sat)</td>\n",
       "      <td>N</td>\n",
       "      <td>Notre Dame Fighting Irish</td>\n",
       "      <td>Navy Midshipmen</td>\n",
       "      <td>Notre Dame Fighting Irish</td>\n",
       "      <td>Navy Midshipmen</td>\n",
       "      <td>-20.5</td>\n",
       "      <td>49.0</td>\n",
       "      <td>34 - 14</td>\n",
       "    </tr>\n",
       "  </tbody>\n",
       "</table>\n",
       "</div>"
      ],
      "text/plain": [
       "   Week              Datetime Mandatory                  Home Team  \\\n",
       "0     0  08/26 06:30 PM (Sat)         N  Notre Dame Fighting Irish   \n",
       "\n",
       "         Away Team                   Favorite         Underdog  Spread  Total  \\\n",
       "0  Navy Midshipmen  Notre Dame Fighting Irish  Navy Midshipmen   -20.5   49.0   \n",
       "\n",
       "  Implied Score  \n",
       "0       34 - 14  "
      ]
     },
     "execution_count": 4,
     "metadata": {},
     "output_type": "execute_result"
    }
   ],
   "source": [
    "check_team = 'Notre Dame'\n",
    "\n",
    "short_df[(short_df['Favorite'].str.contains(check_team)) | (short_df['Underdog'].str.contains(check_team))]"
   ]
  },
  {
   "cell_type": "code",
   "execution_count": 5,
   "metadata": {},
   "outputs": [
    {
     "data": {
      "text/html": [
       "<div>\n",
       "<style scoped>\n",
       "    .dataframe tbody tr th:only-of-type {\n",
       "        vertical-align: middle;\n",
       "    }\n",
       "\n",
       "    .dataframe tbody tr th {\n",
       "        vertical-align: top;\n",
       "    }\n",
       "\n",
       "    .dataframe thead th {\n",
       "        text-align: right;\n",
       "    }\n",
       "</style>\n",
       "<table border=\"1\" class=\"dataframe\">\n",
       "  <thead>\n",
       "    <tr style=\"text-align: right;\">\n",
       "      <th></th>\n",
       "      <th>Week</th>\n",
       "      <th>Datetime</th>\n",
       "      <th>Mandatory</th>\n",
       "      <th>Home Team</th>\n",
       "      <th>Away Team</th>\n",
       "      <th>Favorite</th>\n",
       "      <th>Underdog</th>\n",
       "      <th>Spread</th>\n",
       "      <th>Total</th>\n",
       "      <th>Implied Score</th>\n",
       "    </tr>\n",
       "  </thead>\n",
       "  <tbody>\n",
       "  </tbody>\n",
       "</table>\n",
       "</div>"
      ],
      "text/plain": [
       "Empty DataFrame\n",
       "Columns: [Week, Datetime, Mandatory, Home Team, Away Team, Favorite, Underdog, Spread, Total, Implied Score]\n",
       "Index: []"
      ]
     },
     "execution_count": 5,
     "metadata": {},
     "output_type": "execute_result"
    }
   ],
   "source": [
    "short_df[short_df['Mandatory'] == 'Y']"
   ]
  },
  {
   "cell_type": "code",
   "execution_count": 6,
   "metadata": {},
   "outputs": [
    {
     "data": {
      "text/html": [
       "<div>\n",
       "<style scoped>\n",
       "    .dataframe tbody tr th:only-of-type {\n",
       "        vertical-align: middle;\n",
       "    }\n",
       "\n",
       "    .dataframe tbody tr th {\n",
       "        vertical-align: top;\n",
       "    }\n",
       "\n",
       "    .dataframe thead th {\n",
       "        text-align: right;\n",
       "    }\n",
       "</style>\n",
       "<table border=\"1\" class=\"dataframe\">\n",
       "  <thead>\n",
       "    <tr style=\"text-align: right;\">\n",
       "      <th></th>\n",
       "      <th>Week</th>\n",
       "      <th>Datetime</th>\n",
       "      <th>Mandatory</th>\n",
       "      <th>Home Team</th>\n",
       "      <th>Away Team</th>\n",
       "      <th>Favorite</th>\n",
       "      <th>Underdog</th>\n",
       "      <th>Spread</th>\n",
       "      <th>Total</th>\n",
       "      <th>Implied Score</th>\n",
       "    </tr>\n",
       "  </thead>\n",
       "  <tbody>\n",
       "  </tbody>\n",
       "</table>\n",
       "</div>"
      ],
      "text/plain": [
       "Empty DataFrame\n",
       "Columns: [Week, Datetime, Mandatory, Home Team, Away Team, Favorite, Underdog, Spread, Total, Implied Score]\n",
       "Index: []"
      ]
     },
     "execution_count": 6,
     "metadata": {},
     "output_type": "execute_result"
    }
   ],
   "source": [
    "team_list = [\n",
    "]\n",
    "\n",
    "all_team_list = short_df['Favorite'].tolist() + short_df['Underdog'].tolist()\n",
    "mandatory_list = []\n",
    "for team in team_list:\n",
    "    for t in all_team_list:\n",
    "        if t in team:\n",
    "            mandatory_list.append(t)\n",
    "\n",
    "mandatory_picks = short_df[(short_df['Favorite'].isin(mandatory_list)) |\n",
    "                           (short_df['Underdog'].isin(mandatory_list))]\n",
    "mandatory_picks"
   ]
  },
  {
   "cell_type": "code",
   "execution_count": 7,
   "metadata": {},
   "outputs": [
    {
     "data": {
      "text/html": [
       "<div>\n",
       "<style scoped>\n",
       "    .dataframe tbody tr th:only-of-type {\n",
       "        vertical-align: middle;\n",
       "    }\n",
       "\n",
       "    .dataframe tbody tr th {\n",
       "        vertical-align: top;\n",
       "    }\n",
       "\n",
       "    .dataframe thead th {\n",
       "        text-align: right;\n",
       "    }\n",
       "</style>\n",
       "<table border=\"1\" class=\"dataframe\">\n",
       "  <thead>\n",
       "    <tr style=\"text-align: right;\">\n",
       "      <th></th>\n",
       "      <th>Week</th>\n",
       "      <th>Datetime</th>\n",
       "      <th>Mandatory</th>\n",
       "      <th>Home Team</th>\n",
       "      <th>Away Team</th>\n",
       "      <th>Favorite</th>\n",
       "      <th>Underdog</th>\n",
       "      <th>Spread</th>\n",
       "      <th>Total</th>\n",
       "      <th>Implied Score</th>\n",
       "    </tr>\n",
       "  </thead>\n",
       "  <tbody>\n",
       "  </tbody>\n",
       "</table>\n",
       "</div>"
      ],
      "text/plain": [
       "Empty DataFrame\n",
       "Columns: [Week, Datetime, Mandatory, Home Team, Away Team, Favorite, Underdog, Spread, Total, Implied Score]\n",
       "Index: []"
      ]
     },
     "execution_count": 7,
     "metadata": {},
     "output_type": "execute_result"
    }
   ],
   "source": [
    "short_df.loc[mandatory_picks.index.tolist(), 'Mandatory'] = 'Y'\n",
    "short_df[short_df['Mandatory'] == 'Y']"
   ]
  },
  {
   "cell_type": "code",
   "execution_count": 8,
   "metadata": {},
   "outputs": [
    {
     "name": "stderr",
     "output_type": "stream",
     "text": [
      "05:18:15 INFO:Using credentials directory '/Users/hoke/dev/football/credentials'\n",
      "05:18:15 INFO:Obtained credentails from existing 'token.json' file\n",
      "05:18:15 INFO:Writing data for Hoke\n",
      "05:18:15 INFO:file_cache is only supported with oauth2client<4.0.0\n",
      "05:18:15 DEBUG:Attempting to write 5 rows to Hoke!A:K\n",
      "05:18:15 DEBUG:URL being requested: POST https://sheets.googleapis.com/v4/spreadsheets/1bxqOme4RHBUMgc5ojKr-RgGt3vfetGDAZ1sfs0SeWw4/values/Hoke%21A%3AK:append?valueInputOption=USER_ENTERED&alt=json\n",
      "05:18:15 INFO:Appended 50 cells to Hoke!A:K\n",
      "05:18:15 INFO:Writing data for Lou\n",
      "05:18:15 INFO:file_cache is only supported with oauth2client<4.0.0\n",
      "05:18:15 DEBUG:Attempting to write 5 rows to Lou!A:K\n",
      "05:18:15 DEBUG:URL being requested: POST https://sheets.googleapis.com/v4/spreadsheets/1bxqOme4RHBUMgc5ojKr-RgGt3vfetGDAZ1sfs0SeWw4/values/Lou%21A%3AK:append?valueInputOption=USER_ENTERED&alt=json\n",
      "05:18:15 INFO:Appended 50 cells to Lou!A:K\n",
      "05:18:15 INFO:Writing data for Tom\n",
      "05:18:15 INFO:file_cache is only supported with oauth2client<4.0.0\n",
      "05:18:16 DEBUG:Attempting to write 5 rows to Tom!A:K\n",
      "05:18:16 DEBUG:URL being requested: POST https://sheets.googleapis.com/v4/spreadsheets/1bxqOme4RHBUMgc5ojKr-RgGt3vfetGDAZ1sfs0SeWw4/values/Tom%21A%3AK:append?valueInputOption=USER_ENTERED&alt=json\n",
      "05:18:16 INFO:Appended 50 cells to Tom!A:K\n",
      "05:18:16 INFO:Writing data for Paul\n",
      "05:18:16 INFO:file_cache is only supported with oauth2client<4.0.0\n",
      "05:18:16 DEBUG:Attempting to write 5 rows to Paul!A:K\n",
      "05:18:16 DEBUG:URL being requested: POST https://sheets.googleapis.com/v4/spreadsheets/1bxqOme4RHBUMgc5ojKr-RgGt3vfetGDAZ1sfs0SeWw4/values/Paul%21A%3AK:append?valueInputOption=USER_ENTERED&alt=json\n",
      "05:18:16 INFO:Appended 50 cells to Paul!A:K\n",
      "05:18:16 INFO:Writing data for Brian\n",
      "05:18:16 INFO:file_cache is only supported with oauth2client<4.0.0\n",
      "05:18:16 DEBUG:Attempting to write 5 rows to Brian!A:K\n",
      "05:18:16 DEBUG:URL being requested: POST https://sheets.googleapis.com/v4/spreadsheets/1bxqOme4RHBUMgc5ojKr-RgGt3vfetGDAZ1sfs0SeWw4/values/Brian%21A%3AK:append?valueInputOption=USER_ENTERED&alt=json\n",
      "05:18:16 INFO:Appended 50 cells to Brian!A:K\n",
      "05:18:16 INFO:Writing data for Alex\n",
      "05:18:17 INFO:file_cache is only supported with oauth2client<4.0.0\n",
      "05:18:17 DEBUG:Attempting to write 5 rows to Alex!A:K\n",
      "05:18:17 DEBUG:URL being requested: POST https://sheets.googleapis.com/v4/spreadsheets/1bxqOme4RHBUMgc5ojKr-RgGt3vfetGDAZ1sfs0SeWw4/values/Alex%21A%3AK:append?valueInputOption=USER_ENTERED&alt=json\n",
      "05:18:17 INFO:Appended 50 cells to Alex!A:K\n",
      "05:18:17 INFO:Writing data for Scott\n",
      "05:18:17 INFO:file_cache is only supported with oauth2client<4.0.0\n",
      "05:18:17 DEBUG:Attempting to write 5 rows to Scott!A:K\n",
      "05:18:17 DEBUG:URL being requested: POST https://sheets.googleapis.com/v4/spreadsheets/1bxqOme4RHBUMgc5ojKr-RgGt3vfetGDAZ1sfs0SeWw4/values/Scott%21A%3AK:append?valueInputOption=USER_ENTERED&alt=json\n",
      "05:18:17 INFO:Appended 50 cells to Scott!A:K\n",
      "05:18:17 INFO:Writing data for Chris\n",
      "05:18:17 INFO:file_cache is only supported with oauth2client<4.0.0\n",
      "05:18:17 DEBUG:Attempting to write 5 rows to Chris!A:K\n",
      "05:18:17 DEBUG:URL being requested: POST https://sheets.googleapis.com/v4/spreadsheets/1bxqOme4RHBUMgc5ojKr-RgGt3vfetGDAZ1sfs0SeWw4/values/Chris%21A%3AK:append?valueInputOption=USER_ENTERED&alt=json\n",
      "05:18:17 INFO:Appended 50 cells to Chris!A:K\n",
      "05:18:17 INFO:Writing data for Sean\n",
      "05:18:17 INFO:file_cache is only supported with oauth2client<4.0.0\n",
      "05:18:17 DEBUG:Attempting to write 5 rows to Sean!A:K\n",
      "05:18:18 DEBUG:URL being requested: POST https://sheets.googleapis.com/v4/spreadsheets/1bxqOme4RHBUMgc5ojKr-RgGt3vfetGDAZ1sfs0SeWw4/values/Sean%21A%3AK:append?valueInputOption=USER_ENTERED&alt=json\n",
      "05:18:18 INFO:Appended 50 cells to Sean!A:K\n",
      "05:18:18 INFO:Writing data for Mike\n",
      "05:18:18 INFO:file_cache is only supported with oauth2client<4.0.0\n",
      "05:18:18 DEBUG:Attempting to write 5 rows to Mike!A:K\n",
      "05:18:18 DEBUG:URL being requested: POST https://sheets.googleapis.com/v4/spreadsheets/1bxqOme4RHBUMgc5ojKr-RgGt3vfetGDAZ1sfs0SeWw4/values/Mike%21A%3AK:append?valueInputOption=USER_ENTERED&alt=json\n",
      "05:18:18 INFO:Appended 50 cells to Mike!A:K\n",
      "05:18:18 INFO:Writing data for Tarik\n",
      "05:18:18 INFO:file_cache is only supported with oauth2client<4.0.0\n",
      "05:18:18 DEBUG:Attempting to write 5 rows to Tarik!A:K\n",
      "05:18:18 DEBUG:URL being requested: POST https://sheets.googleapis.com/v4/spreadsheets/1bxqOme4RHBUMgc5ojKr-RgGt3vfetGDAZ1sfs0SeWw4/values/Tarik%21A%3AK:append?valueInputOption=USER_ENTERED&alt=json\n",
      "05:18:18 INFO:Appended 50 cells to Tarik!A:K\n",
      "05:18:18 INFO:Writing data for Cyrus\n",
      "05:18:18 INFO:file_cache is only supported with oauth2client<4.0.0\n",
      "05:18:18 DEBUG:Attempting to write 5 rows to Cyrus!A:K\n",
      "05:18:19 DEBUG:URL being requested: POST https://sheets.googleapis.com/v4/spreadsheets/1bxqOme4RHBUMgc5ojKr-RgGt3vfetGDAZ1sfs0SeWw4/values/Cyrus%21A%3AK:append?valueInputOption=USER_ENTERED&alt=json\n",
      "05:18:19 INFO:Appended 50 cells to Cyrus!A:K\n",
      "05:18:19 INFO:Writing data for Jamie\n",
      "05:18:19 INFO:file_cache is only supported with oauth2client<4.0.0\n",
      "05:18:19 DEBUG:Attempting to write 5 rows to Jamie!A:K\n",
      "05:18:19 DEBUG:URL being requested: POST https://sheets.googleapis.com/v4/spreadsheets/1bxqOme4RHBUMgc5ojKr-RgGt3vfetGDAZ1sfs0SeWw4/values/Jamie%21A%3AK:append?valueInputOption=USER_ENTERED&alt=json\n",
      "05:18:19 INFO:Appended 50 cells to Jamie!A:K\n",
      "05:18:19 INFO:Writing out game list\n",
      "05:18:19 INFO:file_cache is only supported with oauth2client<4.0.0\n",
      "05:18:19 DEBUG:Attempting to write 5 rows to Game List!A:J\n",
      "05:18:19 DEBUG:URL being requested: POST https://sheets.googleapis.com/v4/spreadsheets/1bxqOme4RHBUMgc5ojKr-RgGt3vfetGDAZ1sfs0SeWw4/values/Game%20List%21A%3AJ:append?valueInputOption=USER_ENTERED&alt=json\n",
      "05:18:19 INFO:Appended 45 cells to Game List!A:J\n"
     ]
    }
   ],
   "source": [
    "update_google_sheet(short_df)"
   ]
  },
  {
   "cell_type": "code",
   "execution_count": null,
   "metadata": {},
   "outputs": [],
   "source": []
  }
 ],
 "metadata": {
  "kernelspec": {
   "display_name": "Python [conda env:football]",
   "language": "python",
   "name": "conda-env-football-py"
  },
  "language_info": {
   "codemirror_mode": {
    "name": "ipython",
    "version": 3
   },
   "file_extension": ".py",
   "mimetype": "text/x-python",
   "name": "python",
   "nbconvert_exporter": "python",
   "pygments_lexer": "ipython3",
   "version": "3.8.11"
  }
 },
 "nbformat": 4,
 "nbformat_minor": 4
}
